{
 "cells": [
  {
   "cell_type": "code",
   "execution_count": null,
   "id": "ec142433",
   "metadata": {},
   "outputs": [],
   "source": [
    "# Import the libraries\n",
    "import pandas as pd\n",
    "import numpy as np\n",
    "from matplotlib import pyplot as plt\n",
    "%matplotlib inline\n",
    "import matplotlib\n",
    "matplotlib.rcParams[\"figure.figsize\"] = (20, 10)"
   ]
  },
  {
   "cell_type": "markdown",
   "id": "e4239d83",
   "metadata": {},
   "source": [
    "### Load Dataset"
   ]
  },
  {
   "cell_type": "code",
   "execution_count": null,
   "id": "72edd8f9",
   "metadata": {},
   "outputs": [],
   "source": [
    "# Load the data from csv to dataframe\n",
    "df = pd.read_csv(\"Bengaluru_House_Data.csv\")\n",
    "df.head()"
   ]
  },
  {
   "cell_type": "code",
   "execution_count": null,
   "id": "4f676b79",
   "metadata": {},
   "outputs": [],
   "source": [
    "# Size of the dataset\n",
    "df.shape"
   ]
  },
  {
   "cell_type": "code",
   "execution_count": null,
   "id": "2021ab4f",
   "metadata": {},
   "outputs": [],
   "source": [
    "# Groupby area_type and then apply count aggregate \n",
    "df.groupby('area_type')['area_type'].agg('count')"
   ]
  },
  {
   "cell_type": "markdown",
   "id": "3560af2a",
   "metadata": {},
   "source": [
    "### Data Cleaning"
   ]
  },
  {
   "cell_type": "code",
   "execution_count": null,
   "id": "01f8c156",
   "metadata": {},
   "outputs": [],
   "source": [
    "# Drop the columns which may not be useful for price detection\n",
    "df2 = df.drop(['area_type', 'society', 'balcony', 'availability'], axis='columns')\n",
    "df2.head()"
   ]
  },
  {
   "cell_type": "code",
   "execution_count": null,
   "id": "fb02d5b1",
   "metadata": {},
   "outputs": [],
   "source": [
    "# Returns total number of NA for that column\n",
    "df2.isnull().sum()"
   ]
  },
  {
   "cell_type": "code",
   "execution_count": null,
   "id": "078683f6",
   "metadata": {},
   "outputs": [],
   "source": [
    "# Drop NA\n",
    "df3 = df2.dropna()\n",
    "df3"
   ]
  },
  {
   "cell_type": "code",
   "execution_count": null,
   "id": "b670ce41",
   "metadata": {},
   "outputs": [],
   "source": [
    "df3[\"size\"].unique()"
   ]
  },
  {
   "cell_type": "code",
   "execution_count": null,
   "id": "4416641a",
   "metadata": {},
   "outputs": [],
   "source": [
    "df3[\"bhk\"] = df3[\"size\"].apply(lambda x: int(x.split(\" \")[0]))\\\n",
    "df3[df3.bhk>20]\n",
    "df3.total_sqft.unique()"
   ]
  },
  {
   "cell_type": "code",
   "execution_count": null,
   "id": "5145a88b",
   "metadata": {},
   "outputs": [],
   "source": [
    "def is_float(x):\n",
    "    try:\n",
    "        float(x)\n",
    "    except:\n",
    "        return False\n",
    "    return True"
   ]
  },
  {
   "cell_type": "code",
   "execution_count": null,
   "id": "20dbffd8",
   "metadata": {},
   "outputs": [],
   "source": [
    "df3[~df3[\"total_sqft\"].apply(is_float)]"
   ]
  },
  {
   "cell_type": "code",
   "execution_count": null,
   "id": "f93539c3",
   "metadata": {},
   "outputs": [],
   "source": [
    "def convert_sqft_to_num(x):\n",
    "    tokens = x.split(\"-\")\n",
    "    if len(tokens) == 2:\n",
    "        return (float(tokens[0])+float(tokens[1]))/2\n",
    "    try:\n",
    "        return float(x)\n",
    "    except:\n",
    "        return None"
   ]
  },
  {
   "cell_type": "code",
   "execution_count": null,
   "id": "2ded1d1b",
   "metadata": {},
   "outputs": [],
   "source": [
    "df4 = df3.copy()\n",
    "df4['total_sqft'] = df4['total_sqft'].apply(convert_sqft_to_num)"
   ]
  },
  {
   "cell_type": "code",
   "execution_count": null,
   "id": "db025888",
   "metadata": {},
   "outputs": [],
   "source": [
    "df4.head()"
   ]
  },
  {
   "cell_type": "markdown",
   "id": "6a285a96",
   "metadata": {},
   "source": [
    "### Feature Engineering & Dimensionality Reduction"
   ]
  },
  {
   "cell_type": "code",
   "execution_count": null,
   "id": "a2adbb25",
   "metadata": {},
   "outputs": [],
   "source": [
    "df5 = df4.copy()\n",
    "# Adding a new feature with the help of availabile columns is called feature engineering\n",
    "df5[\"price_per_sqft\"] = df5[\"price\"]*100000/df5[\"total_sqft\"]\n",
    "df5.head()"
   ]
  },
  {
   "cell_type": "code",
   "execution_count": null,
   "id": "280f9887",
   "metadata": {},
   "outputs": [],
   "source": [
    "# High dimensionality problem - There are so many locations available, \n",
    "# we will call locations as \"other\" if they have are less than 10\n",
    "len(df5[\"location\"].unique())"
   ]
  },
  {
   "cell_type": "code",
   "execution_count": null,
   "id": "75059b4d",
   "metadata": {},
   "outputs": [],
   "source": [
    "# Remove Extra spaces in location\n",
    "df5[\"location\"] = df5[\"location\"].apply(lambda x: x.strip())\n",
    "location_stats = df5.groupby(\"location\")[\"location\"].agg(\"count\").sort_values(ascending=False)\n",
    "location_stats"
   ]
  },
  {
   "cell_type": "code",
   "execution_count": null,
   "id": "74e061e3",
   "metadata": {},
   "outputs": [],
   "source": [
    "len(location_stats[location_stats<10])"
   ]
  },
  {
   "cell_type": "code",
   "execution_count": null,
   "id": "f24b1db2",
   "metadata": {},
   "outputs": [],
   "source": [
    "location_stats_less_than_10 = location_stats[location_stats<10]\n",
    "location_stats_less_than_10"
   ]
  },
  {
   "cell_type": "code",
   "execution_count": null,
   "id": "0e768b76",
   "metadata": {},
   "outputs": [],
   "source": [
    "# Dimensionality reduction\n",
    "df5[\"location\"] = df5[\"location\"].apply(lambda x: \"other\" if x in location_stats_less_than_10 else x)\n",
    "len(df5[\"location\"].unique())"
   ]
  },
  {
   "cell_type": "code",
   "execution_count": null,
   "id": "cfe87a9b",
   "metadata": {},
   "outputs": [],
   "source": []
  }
 ],
 "metadata": {
  "kernelspec": {
   "display_name": "Python 3.10.4 64-bit",
   "language": "python",
   "name": "python3"
  },
  "language_info": {
   "codemirror_mode": {
    "name": "ipython",
    "version": 3
   },
   "file_extension": ".py",
   "mimetype": "text/x-python",
   "name": "python",
   "nbconvert_exporter": "python",
   "pygments_lexer": "ipython3",
   "version": "3.10.4"
  },
  "vscode": {
   "interpreter": {
    "hash": "8c3d4d9970fc5c09c50d9318a9c7fbf4d0159e4b28833276f5678ee22bded273"
   }
  }
 },
 "nbformat": 4,
 "nbformat_minor": 5
}
